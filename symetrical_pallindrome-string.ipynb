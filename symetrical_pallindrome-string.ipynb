{
 "cells": [
  {
   "cell_type": "code",
   "execution_count": null,
   "id": "37a2e1a5",
   "metadata": {},
   "outputs": [],
   "source": [
    "#pallindrome or not\n",
    "n=input('Enter a word: ')\n",
    "p=''\n",
    "for i in n[::-1]:\n",
    "    p = p +i\n",
    "if p == n :\n",
    "    print('This is a pallindrome')\n",
    "else:\n",
    "    print('This is not a pallindrome')"
   ]
  },
  {
   "cell_type": "code",
   "execution_count": null,
   "id": "1a83d067",
   "metadata": {},
   "outputs": [],
   "source": [
    "#symetrical word and pallindrom word\n",
    "n=input('Enter a word: ')\n",
    "l=len(n)\n",
    "a=int(len(n)//2)\n",
    "      \n",
    "if le%2==0:\n",
    "        str1=n[:a]\n",
    "        str2=n[a:]\n",
    "else:\n",
    "        str1=n[:a]\n",
    "        str2=n[a+1:]\n",
    "if str1 == str2:\n",
    "    print(\"Symetrical\")\n",
    "else:\n",
    "    print(\"Not Symetrical\")\n",
    "\n",
    "\n",
    "if n[::] == n[::-1]:\n",
    "    print('pallindrome')\n",
    "else:\n",
    "    print('Not pallindrome')\n",
    "    \n",
    "    \n",
    "      \n"
   ]
  },
  {
   "cell_type": "code",
   "execution_count": null,
   "id": "01f1d776",
   "metadata": {},
   "outputs": [],
   "source": []
  },
  {
   "cell_type": "code",
   "execution_count": null,
   "id": "ad03e7c2",
   "metadata": {},
   "outputs": [],
   "source": []
  },
  {
   "cell_type": "code",
   "execution_count": null,
   "id": "d5f906fd",
   "metadata": {},
   "outputs": [],
   "source": []
  },
  {
   "cell_type": "code",
   "execution_count": null,
   "id": "7d0f90e9",
   "metadata": {},
   "outputs": [],
   "source": []
  }
 ],
 "metadata": {
  "kernelspec": {
   "display_name": "Python 3 (ipykernel)",
   "language": "python",
   "name": "python3"
  },
  "language_info": {
   "codemirror_mode": {
    "name": "ipython",
    "version": 3
   },
   "file_extension": ".py",
   "mimetype": "text/x-python",
   "name": "python",
   "nbconvert_exporter": "python",
   "pygments_lexer": "ipython3",
   "version": "3.9.7"
  }
 },
 "nbformat": 4,
 "nbformat_minor": 5
}
