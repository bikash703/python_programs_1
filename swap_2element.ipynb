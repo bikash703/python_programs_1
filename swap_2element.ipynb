{
 "cells": [
  {
   "cell_type": "code",
   "execution_count": 7,
   "id": "81a48d00",
   "metadata": {},
   "outputs": [
    {
     "name": "stdout",
     "output_type": "stream",
     "text": [
      "Enter 1st position to change: 4\n",
      "Enter 2nd position to change: 3\n",
      "[4, 3, 5, 2, 8, 6]\n"
     ]
    }
   ],
   "source": [
    "#swap two element in a list\n",
    "\n",
    "def swap(list,pos1,pos2):   #pos1=position1,pos2=position2\n",
    "    list[pos1], list[pos2] = list[pos2], list[pos1]\n",
    "    return list\n",
    "list = [4,3,2,5,8,6]\n",
    "try:\n",
    "    pos1=int(input('Enter 1st position to change: '))\n",
    "    pos2=int(input('Enter 2nd position to change: '))\n",
    "    print(swap(list,pos1-1,pos2-1))\n",
    "except:\n",
    "    print('Invalid input')"
   ]
  },
  {
   "cell_type": "code",
   "execution_count": 11,
   "id": "23951119",
   "metadata": {},
   "outputs": [
    {
     "name": "stdout",
     "output_type": "stream",
     "text": [
      "Enter 1st position to change: 2\n",
      "Enter 2nd position to change: 1\n",
      "[3, 4, 2, 5, 8, 6]\n"
     ]
    }
   ],
   "source": [
    "#other method\n",
    "def swap(list,pos1,pos2):   #pos1=position1,pos2=position2\n",
    "    \n",
    "    get = list[pos1],list[pos2]\n",
    "\n",
    "    list[pos2],list[pos1] = get\n",
    "        \n",
    "    return list\n",
    "list = [4,3,2,5,8,6]\n",
    "try:\n",
    "    pos1=int(input('Enter 1st position to change: '))\n",
    "    pos2=int(input('Enter 2nd position to change: '))\n",
    "    print(swap(list,pos1-1,pos2-1))\n",
    "except:\n",
    "    print('Invalid input')\n"
   ]
  },
  {
   "cell_type": "code",
   "execution_count": null,
   "id": "bba95a8e",
   "metadata": {},
   "outputs": [],
   "source": []
  }
 ],
 "metadata": {
  "kernelspec": {
   "display_name": "Python 3 (ipykernel)",
   "language": "python",
   "name": "python3"
  },
  "language_info": {
   "codemirror_mode": {
    "name": "ipython",
    "version": 3
   },
   "file_extension": ".py",
   "mimetype": "text/x-python",
   "name": "python",
   "nbconvert_exporter": "python",
   "pygments_lexer": "ipython3",
   "version": "3.9.7"
  }
 },
 "nbformat": 4,
 "nbformat_minor": 5
}
